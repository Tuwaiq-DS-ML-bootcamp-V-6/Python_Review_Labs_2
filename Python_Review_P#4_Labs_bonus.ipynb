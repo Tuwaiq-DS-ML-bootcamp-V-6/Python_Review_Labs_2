{
 "cells": [
  {
   "cell_type": "markdown",
   "metadata": {},
   "source": [
    "Try and Except\n",
    "\n",
    "Write a program that does the following:\n",
    "1. Ask the user to enter their name.\n",
    "2. Ask the user to enter their age.\n",
    "3. If their age is between 0 and 6, print \"Kid\".\n",
    "4. If their age is less than 0, print \"Wrong age value, you cannot enter a value less than 0\".\n",
    "5. If the age is greater than 6, do the following:\n",
    "   - Initialize an empty variable called total_cost with an initial value of 0.\n",
    "   - Ask the user to enter the number of items they want to buy.\n",
    "   - For each item, do the following:\n",
    "     - Ask for the item name.\n",
    "     - Ask for the item price.\n",
    "     - Ask for the item quantity.\n",
    "     - Calculate the item total cost by multiplying the quantity by the price and name it as item_cost.\n",
    "     - Update the total_cost variable by adding the value of item_cost.\n",
    "     - Print the item_cost and the total_cost.\n",
    "   - If the total_cost is greater than 200, apply a 20% discount for this special customer.\n",
    "6. Handle any unexpected inputs from the users (Just cast the input values and catch the errors).\n",
    "7. Finally, ask the user if they want to repeat the same process from step 1 to 6 or not. Use loops, but only one of them.\n",
    "\n",
    "Note: The ask comes after catching the errors.\n"
   ]
  },
  {
   "cell_type": "code",
   "execution_count": 2,
   "metadata": {},
   "outputs": [
    {
     "name": "stdout",
     "output_type": "stream",
     "text": [
      "Invalid input! Please enter a valid value.\n",
      "Invalid input! Please enter a valid value.\n",
      "Kid\n"
     ]
    }
   ],
   "source": [
    "while True:\n",
    "    try:\n",
    "        name = input(\"Enter your name: \")\n",
    "        age = int(input(\"Enter your age: \"))\n",
    "\n",
    "        if age < 0:\n",
    "            print(\"Wrong age value, you cannot enter a value less than 0\")\n",
    "        elif 0 <= age <= 6:\n",
    "            print(\"Kid\")\n",
    "        else:\n",
    "            total_cost = 0\n",
    "            num_items = int(input(\"Enter number of items you want to buy: \"))\n",
    "            for i in range(num_items):\n",
    "                item_name = input(\"Enter item name: \")\n",
    "                item_price = float(input(\"Enter item price: \"))\n",
    "                item_quantity = int(input(\"Enter how many one you want: \"))\n",
    "                item_cost = item_price * item_quantity\n",
    "                total_cost += item_cost\n",
    "                print(\"Item cost:\", item_cost, \" Total cost: \",total_cost)\n",
    "            \n",
    "            if total_cost > 200:\n",
    "                total_cost *= 0.8  \n",
    "                print(\"You've got a 20% discount!\")\n",
    "\n",
    "        repeat = input(\"Do you want to repeat the process? (yes/no): \")\n",
    "        if repeat.lower() != \"yes\":\n",
    "            break\n",
    "\n",
    "    except ValueError:\n",
    "        print(\"Invalid input! Please enter a valid value.\")\n"
   ]
  }
 ],
 "metadata": {
  "kernelspec": {
   "display_name": "Python 3",
   "language": "python",
   "name": "python3"
  },
  "language_info": {
   "codemirror_mode": {
    "name": "ipython",
    "version": 3
   },
   "file_extension": ".py",
   "mimetype": "text/x-python",
   "name": "python",
   "nbconvert_exporter": "python",
   "pygments_lexer": "ipython3",
   "version": "3.12.0"
  }
 },
 "nbformat": 4,
 "nbformat_minor": 2
}
