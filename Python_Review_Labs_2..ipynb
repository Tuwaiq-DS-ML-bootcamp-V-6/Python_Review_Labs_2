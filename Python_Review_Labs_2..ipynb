{
 "cells": [
  {
   "cell_type": "code",
   "execution_count": 1,
   "id": "169760cb-4d63-44f7-bab1-4d7755c50039",
   "metadata": {},
   "outputs": [
    {
     "name": "stdout",
     "output_type": "stream",
     "text": [
      "Sum of all items in the list: 139\n",
      "Largest number in the list: 45\n",
      "New list containing only even numbers: [4, 30, 2, 10]\n",
      "New list from start to 5th element: [5, 4, 17, 19, 30]\n"
     ]
    }
   ],
   "source": [
    "my_list = [5, 4, 17, 19, 30, 2, 7, 10, 45]\n",
    "sum_of_items = sum(my_list)\n",
    "print(\"Sum of all items in the list:\", sum_of_items)\n",
    "\n",
    "largest_number = max(my_list)\n",
    "print(\"Largest number in the list:\", largest_number)\n",
    "\n",
    "even_numbers = [num for num in my_list if num % 2 == 0]\n",
    "print(\"New list containing only even numbers:\", even_numbers)\n",
    "\n",
    "new_list = my_list[:5]\n",
    "print(\"New list from start to 5th element:\", new_list)"
   ]
  },
  {
   "cell_type": "code",
   "execution_count": 3,
   "id": "33707b79-bf5b-4da9-bbc0-e0cf47131a88",
   "metadata": {},
   "outputs": [
    {
     "name": "stdin",
     "output_type": "stream",
     "text": [
      "Enter the phone number:  7777777777\n"
     ]
    },
    {
     "name": "stdout",
     "output_type": "stream",
     "text": [
      "Owner: Layla\n"
     ]
    }
   ],
   "source": [
    "phone_book = {\n",
    "    'Amal': '1111111111',\n",
    "    'Mohammed': '2222222222',\n",
    "    'Khadijah': '3333333333',\n",
    "    'Abdullah': '4444444444',\n",
    "    'Rawan': '5555555555',\n",
    "    'Faisal': '6666666666',\n",
    "    'Layla': '7777777777'\n",
    "}\n",
    "\n",
    "def search_owner(phone_number):\n",
    "    if not phone_number.isdigit() or len(phone_number) != 10:\n",
    "        print(\"This is an invalid number.\")\n",
    "        return\n",
    "\n",
    "    for name, number in phone_book.items():\n",
    "        if number == phone_number:\n",
    "            print(\"Owner:\", name)\n",
    "            return\n",
    "    print(\"Sorry, the number is not found.\")\n",
    "\n",
    "phone_number = input(\"Enter the phone number: \")\n",
    "search_owner(phone_number)\n"
   ]
  },
  {
   "cell_type": "code",
   "execution_count": null,
   "id": "284c5d2e-292e-43ed-832d-40ee70f340b7",
   "metadata": {},
   "outputs": [],
   "source": []
  }
 ],
 "metadata": {
  "kernelspec": {
   "display_name": "Python 3 (ipykernel)",
   "language": "python",
   "name": "python3"
  },
  "language_info": {
   "codemirror_mode": {
    "name": "ipython",
    "version": 3
   },
   "file_extension": ".py",
   "mimetype": "text/x-python",
   "name": "python",
   "nbconvert_exporter": "python",
   "pygments_lexer": "ipython3",
   "version": "3.11.7"
  }
 },
 "nbformat": 4,
 "nbformat_minor": 5
}
