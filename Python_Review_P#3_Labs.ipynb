{
 "cells": [
  {
   "cell_type": "markdown",
   "id": "2d4a0e4d",
   "metadata": {},
   "source": [
    "## Lab1-Lists\n",
    "Given the following list : [5, 4, 17, 19, 30, 2, 7, 10, 45]\n",
    "- Q1: Write a Python program to sum all the items in the list.\n",
    "- Q2: Write a Python program to get the largest number from the list.\n",
    "- Q3: Use list comprehension, create a new list from the above list containing only even numbers.\n",
    "- Q4: Use list slicing to get a new list from the previous list starting from the start to the 5th element in the list."
   ]
  },
  {
   "cell_type": "code",
   "execution_count": 8,
   "id": "88e0fe9c",
   "metadata": {},
   "outputs": [
    {
     "name": "stdout",
     "output_type": "stream",
     "text": [
      "139\n",
      "45\n",
      "[2, 4, 10, 30]\n",
      "[5, 4, 17, 19, 30]\n"
     ]
    }
   ],
   "source": [
    "list = [5, 4, 17, 19, 30, 2, 7, 10, 45]\n",
    "#Q1\n",
    "def sum_all(list):\n",
    "    list = sum(list)\n",
    "    return list\n",
    "print(sum_all(list))\n",
    "#Q2\n",
    "def max_number(list):\n",
    "    maxx = max(list)\n",
    "    return maxx\n",
    "print(max_number(list))\n",
    "#Q3\n",
    "def even_number(list):\n",
    "    list.sort()\n",
    "    a=[ n for n in list if n%2==0 ]\n",
    "    return a   \n",
    "print(even_number(list))\n",
    "#Q4\n",
    "def slicer():\n",
    "    i = [5, 4, 17, 19, 30, 2, 7, 10, 45]\n",
    "    new_list = i[:5]\n",
    "    return new_list\n",
    "print(slicer())"
   ]
  },
  {
   "cell_type": "markdown",
   "id": "4df61e4c",
   "metadata": {},
   "source": [
    "## Lab2-Dictionary\n",
    "\n",
    "Build a phone book program that receives the phone number, and returns the name of the owner. \n",
    "You can follow the table below:\n",
    "\n",
    "| Name    | Number      |\n",
    "| -------- | ---------- |\n",
    "| Amal     | 1111111111 |\n",
    "| Mohammed | 2222222222 |\n",
    "| Khadijah | 3333333333 |\n",
    "| Abdullah  | 4444444444 |\n",
    "| Rawan    | 5555555555 |\n",
    "| Faisal   | 6666666666 |\n",
    "| Layla    | 7777777777 |\n",
    "\n",
    "\n",
    "- If the number exists, print the owner. Otherwise, print \"Sorry, the number is not found\".\n",
    "- If the number is less or more than 10 numbers, print \"This is invalid number\".\n",
    "- If the number contains letters or symbols, print \"This is invalid number\"."
   ]
  },
  {
   "cell_type": "code",
   "execution_count": 4,
   "id": "7d53c06c",
   "metadata": {},
   "outputs": [
    {
     "name": "stdout",
     "output_type": "stream",
     "text": [
      "The owner is Amal\n"
     ]
    }
   ],
   "source": [
    "\n",
    "phone_numbers = {\n",
    "    '1111111111': 'Amal',\n",
    "    '2222222222': 'Mohammed',\n",
    "    '3333333333': 'Khadijah',\n",
    "    '4444444444': 'Abdullah',\n",
    "    '5555555555': 'Rawan',\n",
    "    '6666666666': 'Faisal',\n",
    "    '7777777777': 'Layla'\n",
    "}\n",
    "\n",
    "def find_owner(phone_number):\n",
    "    \n",
    "    if not phone_number.isdigit() or len(phone_number) != 10:\n",
    "        print(\"This is an invalid number.\")\n",
    "    elif phone_number in phone_numbers:\n",
    "        print(f\"The owner is {phone_numbers[phone_number]}\")\n",
    "    else:\n",
    "        print(\"Sorry, the number is not found\")\n",
    "\n",
    "\n",
    "find_owner(\"1111111111\")  \n",
    "\n"
   ]
  },
  {
   "cell_type": "code",
   "execution_count": null,
   "id": "ffdffaec",
   "metadata": {},
   "outputs": [],
   "source": []
  },
  {
   "cell_type": "code",
   "execution_count": null,
   "id": "93b05ba5",
   "metadata": {},
   "outputs": [],
   "source": []
  }
 ],
 "metadata": {
  "kernelspec": {
   "display_name": "Python 3 (ipykernel)",
   "language": "python",
   "name": "python3"
  },
  "language_info": {
   "codemirror_mode": {
    "name": "ipython",
    "version": 3
   },
   "file_extension": ".py",
   "mimetype": "text/x-python",
   "name": "python",
   "nbconvert_exporter": "python",
   "pygments_lexer": "ipython3",
   "version": "3.11.7"
  }
 },
 "nbformat": 4,
 "nbformat_minor": 5
}
