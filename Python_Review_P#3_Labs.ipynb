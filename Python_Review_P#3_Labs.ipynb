{
 "cells": [
  {
   "cell_type": "markdown",
   "id": "2d4a0e4d",
   "metadata": {},
   "source": [
    "## Lab1-Lists\n",
    "Given the following list : [5, 4, 17, 19, 30, 2, 7, 10, 45]\n",
    "- Q1: Write a Python program to sum all the items in the list.\n",
    "- Q2: Write a Python program to get the largest number from the list.\n",
    "- Q3: Use list comprehension, create a new list from the above list containing only even numbers.\n",
    "- Q4: Use list slicing to get a new list from the previous list starting from the start to the 5th element in the list."
   ]
  },
  {
   "cell_type": "code",
   "execution_count": null,
   "id": "88e0fe9c",
   "metadata": {},
   "outputs": [],
   "source": [
    "#Q1: Write a Python program to sum all the items in the list.\n",
    "\n",
    "my_list = [5, 4, 17, 19, 30, 2, 7, 10, 45]\n",
    "total = sum(my_list)\n",
    "print(\"Sum of all items in the list:\", total)\n",
    "#————-\n",
    "#Q2: Write a Python program to get the largest number from the list.\n",
    "my_list = [5, 4, 17, 19, 30, 2, 7, 10, 45]\n",
    "largest = max(my_list)\n",
    "print(\"Largest number in the list:\", largest)\n",
    "\n",
    "#—————-\n",
    "#Q3: Use list comprehension, create a new list from the above list containing only even numbers.\n",
    "\n",
    "my_list = [5, 4, 17, 19, 30, 2, 7, 10, 45]\n",
    "even_numbers = [num for num in my_list if num % 2 == 0]\n",
    "print(\"List of even numbers:\", even_numbers)\n",
    "\n",
    "\n",
    "#————\n",
    "#Q4: Use list slicing to get a new list from the previous list starting from the start to the 5th element in the list.\n",
    "my_list = [5, 4, 17, 19, 30, 2, 7, 10, 45]\n",
    "new_list = my_list[:5]\n",
    "print(\"New list from start to 5th element:\", new_list)"
   ]
  },
  {
   "cell_type": "markdown",
   "id": "4df61e4c",
   "metadata": {},
   "source": [
    "## Lab2-Dictionary\n",
    "\n",
    "Build a phone book program that receives the phone number, and returns the name of the owner. \n",
    "You can follow the table below:\n",
    "\n",
    "| Name    | Number      |\n",
    "| -------- | ---------- |\n",
    "| Amal     | 1111111111 |\n",
    "| Mohammed | 2222222222 |\n",
    "| Khadijah | 3333333333 |\n",
    "| Abdullah  | 4444444444 |\n",
    "| Rawan    | 5555555555 |\n",
    "| Faisal   | 6666666666 |\n",
    "| Layla    | 7777777777 |\n",
    "\n",
    "\n",
    "- If the number exists, print the owner. Otherwise, print \"Sorry, the number is not found\".\n",
    "- If the number is less or more than 10 numbers, print \"This is invalid number\".\n",
    "- If the number contains letters or symbols, print \"This is invalid number\"."
   ]
  },
  {
   "cell_type": "code",
   "execution_count": null,
   "id": "7d53c06c",
   "metadata": {},
   "outputs": [],
   "source": [
    "phone_book = {\n",
    "    \"Amal\": \"1111111111\",\n",
    "    \"Mohammed\": \"2222222222\",\n",
    "    \"Khadijah\": \"3333333333\",\n",
    "    \"Abdullah\": \"4444444444\",\n",
    "    \"Rawan\": \"5555555555\",\n",
    "    \"Faisal\": \"6666666666\",\n",
    "    \"Layla\": \"7777777777\"\n",
    "}\n",
    "\n",
    "def search_phone_number(number):\n",
    "    if not number.isdigit() or len(number) != 10:\n",
    "        print(\"This is an invalid number.\")\n",
    "        return\n",
    "    \n",
    "    for name, num in phone_book.items():\n",
    "        if num == number:\n",
    "            print(f\"The owner of the number {number} is {name}.\")\n",
    "            return\n",
    "    print(\"Sorry, the number is not found.\")"
   ]
  }
 ],
 "metadata": {
  "kernelspec": {
   "display_name": "Python 3 (ipykernel)",
   "language": "python",
   "name": "python3"
  },
  "language_info": {
   "codemirror_mode": {
    "name": "ipython",
    "version": 3
   },
   "file_extension": ".py",
   "mimetype": "text/x-python",
   "name": "python",
   "nbconvert_exporter": "python",
   "pygments_lexer": "ipython3",
   "version": "3.11.7"
  }
 },
 "nbformat": 4,
 "nbformat_minor": 5
}
