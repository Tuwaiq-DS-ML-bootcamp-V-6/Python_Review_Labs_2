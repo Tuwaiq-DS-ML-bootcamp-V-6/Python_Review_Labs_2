{
 "cells": [
  {
   "cell_type": "markdown",
   "id": "2d4a0e4d",
   "metadata": {},
   "source": [
    "## Lab1-Lists\n",
    "Given the following list : [5, 4, 17, 19, 30, 2, 7, 10, 45]\n",
    "- Q1: Write a Python program to sum all the items in the list.\n",
    "- Q2: Write a Python program to get the largest number from the list.\n",
    "- Q3: Use list comprehension, create a new list from the above list containing only even numbers.\n",
    "- Q4: Use list slicing to get a new list from the previous list starting from the start to the 5th element in the list."
   ]
  },
  {
   "cell_type": "code",
   "execution_count": null,
   "id": "88e0fe9c",
   "metadata": {
    "is_executing": true
   },
   "outputs": [],
   "source": [
    "lis= [5, 4, 17, 19, 30, 2, 7, 10, 45]\n",
    "for summ in lis:\n",
    "    summ+=summ\n",
    "print(summ)\n",
    "\n",
    "\n",
    "large_num= max(lis)\n",
    "print(large_num)\n",
    "lis2= []\n",
    "\n"
   ]
  },
  {
   "cell_type": "markdown",
   "id": "4df61e4c",
   "metadata": {},
   "source": [
    "## Lab2-Dictionary\n",
    "\n",
    "Build a phone book program that receives the phone number, and returns the name of the owner. \n",
    "You can follow the table below:\n",
    "\n",
    "| Name    | Number      |\n",
    "| -------- | ---------- |\n",
    "| Amal     | 1111111111 |\n",
    "| Mohammed | 2222222222 |\n",
    "| Khadijah | 3333333333 |\n",
    "| Abdullah  | 4444444444 |\n",
    "| Rawan    | 5555555555 |\n",
    "| Faisal   | 6666666666 |\n",
    "| Layla    | 7777777777 |\n",
    "\n",
    "\n",
    "- If the number exists, print the owner. Otherwise, print \"Sorry, the number is not found\".\n",
    "- If the number is less or more than 10 numbers, print \"This is invalid number\".\n",
    "- If the number contains letters or symbols, print \"This is invalid number\"."
   ]
  },
  {
   "cell_type": "code",
   "execution_count": null,
   "id": "7d53c06c",
   "metadata": {},
   "outputs": [],
   "source": [
    "phone_numbers = [  {'name' : 'Amal '     , 'number' : '1111111111' },\n",
    "                   {'name' : 'Mohammed ' , 'number' : '2222222222' },\n",
    "                   {'name' : 'Khadijah ' , 'number' : '3333333333' },\n",
    "                   {'name' : 'Abdullah ' , 'number' : '4444444444' },\n",
    "                   {'name' : 'Rawan '    , 'number' : '5555555555' },\n",
    "                   {'name' : 'Faisal '   , 'number' : '6666666666' },\n",
    "                   {'name' : 'Layla '    , 'number' : '7777777777' } ]\n",
    "\n",
    "\n",
    "\n",
    "def search_phone(num):\n",
    "\n",
    "    if not num.isdigit():\n",
    "        print('\\n  This is invalid number! ')\n",
    "    elif len(num)!=10:\n",
    "        print('\\n  This is invalid number! ')\n",
    "\n",
    "    else :\n",
    "        found=False\n",
    "        for i in phone_numbers :\n",
    "            if i['number']==num:\n",
    "                found=True\n",
    "                return ('The name is: '+ i['name'])\n",
    "\n",
    "\n",
    "        if not found:\n",
    "            print('Sorry, the number is not found ')\n",
    "\n",
    "\n",
    "\n"
   ]
  },
  {
   "cell_type": "code",
   "execution_count": null,
   "id": "ffdffaec",
   "metadata": {},
   "outputs": [],
   "source": [
    "x=input('please enter the phone number: ')\n",
    "print(search_phone(x))"
   ]
  },
  {
   "cell_type": "code",
   "execution_count": null,
   "id": "93b05ba5",
   "metadata": {},
   "outputs": [],
   "source": []
  }
 ],
 "metadata": {
  "kernelspec": {
   "display_name": "Python 3 (ipykernel)",
   "language": "python",
   "name": "python3"
  },
  "language_info": {
   "codemirror_mode": {
    "name": "ipython",
    "version": 3
   },
   "file_extension": ".py",
   "mimetype": "text/x-python",
   "name": "python",
   "nbconvert_exporter": "python",
   "pygments_lexer": "ipython3",
   "version": "3.11.7"
  }
 },
 "nbformat": 4,
 "nbformat_minor": 5
}
