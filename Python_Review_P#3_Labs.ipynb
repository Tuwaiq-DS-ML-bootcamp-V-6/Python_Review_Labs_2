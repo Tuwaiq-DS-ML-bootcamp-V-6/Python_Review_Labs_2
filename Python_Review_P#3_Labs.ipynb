{
 "cells": [
  {
   "cell_type": "markdown",
   "id": "2d4a0e4d",
   "metadata": {},
   "source": [
    "## Lab1-Lists\n",
    "Given the following list : [5, 4, 17, 19, 30, 2, 7, 10, 45]\n",
    "- Q1: Write a Python program to sum all the items in the list.\n",
    "- Q2: Write a Python program to get the largest number from the list.\n",
    "- Q3: Use list comprehension, create a new list from the above list containing only even numbers.\n",
    "- Q4: Use list slicing to get a new list from the previous list starting from the start to the 5th element in the list."
   ]
  },
  {
   "cell_type": "code",
   "execution_count": 9,
   "id": "88e0fe9c",
   "metadata": {},
   "outputs": [
    {
     "name": "stdout",
     "output_type": "stream",
     "text": [
      "139\n"
     ]
    }
   ],
   "source": [
    "\n",
    "lst = [5, 4, 17, 19, 30, 2, 7, 10, 45]\n",
    "total =0\n",
    "for n in lst:\n",
    "    total += n\n",
    "print(total)\n"
   ]
  },
  {
   "cell_type": "code",
   "execution_count": 12,
   "id": "fe3641a2",
   "metadata": {},
   "outputs": [
    {
     "name": "stdout",
     "output_type": "stream",
     "text": [
      "the largest number is 45\n"
     ]
    }
   ],
   "source": [
    "\n",
    "max_number = max(lst)\n",
    "print(\"the largest number is\", max_number)"
   ]
  },
  {
   "cell_type": "code",
   "execution_count": 13,
   "id": "ff1f5392",
   "metadata": {},
   "outputs": [
    {
     "name": "stdout",
     "output_type": "stream",
     "text": [
      "even numbers = [4, 30, 2, 10]\n"
     ]
    }
   ],
   "source": [
    "\n",
    "even_numbers = [n for n in lst if n % 2 == 0]\n",
    "print(\"even numbers =\", even_numbers)"
   ]
  },
  {
   "cell_type": "code",
   "execution_count": 14,
   "id": "b8c0ecff",
   "metadata": {},
   "outputs": [
    {
     "name": "stdout",
     "output_type": "stream",
     "text": [
      "New list from start to 5th element: [5, 4, 17, 19, 30]\n"
     ]
    }
   ],
   "source": [
    "\n",
    "new_Lst = lst[:5]\n",
    "print(\"New list from start to 5th element:\", new_Lst)"
   ]
  },
  {
   "cell_type": "markdown",
   "id": "4df61e4c",
   "metadata": {},
   "source": [
    "## Lab2-Dictionary\n",
    "\n",
    "Build a phone book program that receives the phone number, and returns the name of the owner. \n",
    "You can follow the table below:\n",
    "\n",
    "| Name    | Number      |\n",
    "| -------- | ---------- |\n",
    "| Amal     | 1111111111 |\n",
    "| Mohammed | 2222222222 |\n",
    "| Khadijah | 3333333333 |\n",
    "| Abdullah  | 4444444444 |\n",
    "| Rawan    | 5555555555 |\n",
    "| Faisal   | 6666666666 |\n",
    "| Layla    | 7777777777 |\n",
    "\n",
    "\n",
    "- If the number exists, print the owner. Otherwise, print \"Sorry, the number is not found\".\n",
    "- If the number is less or more than 10 numbers, print \"This is invalid number\".\n",
    "- If the number contains letters or symbols, print \"This is invalid number\"."
   ]
  },
  {
   "cell_type": "code",
   "execution_count": 32,
   "id": "7d53c06c",
   "metadata": {},
   "outputs": [
    {
     "name": "stdout",
     "output_type": "stream",
     "text": [
      "This is an invalid number.\n"
     ]
    }
   ],
   "source": [
    "def find_owner(phone_book, num):\n",
    "    if num.isdigit() and len(num) == 10:\n",
    "        owner = phone_book.get(num)\n",
    "        if owner:\n",
    "            print(\"Owner's name is\", owner)\n",
    "        else:\n",
    "            print(\"Sorry, the number is not found\")\n",
    "    else:\n",
    "        print(\"This is an invalid number.\")\n",
    "\n",
    "    \n",
    "\n",
    "phone_book = {\n",
    "    '1111111111': 'Amal',\n",
    "    '2222222222': 'Mohammed',\n",
    "    '3333333333': 'Khadijah',\n",
    "    '4444444444': 'Abdullah',\n",
    "    '5555555555': 'Rawan',\n",
    "    '6666666666': 'Faisal',\n",
    "    '7777777777': 'Layla',\n",
    "}\n",
    "\n",
    "num = input(\"Enter a 10-digit phone number: \")\n",
    "find_owner(phone_book, num)\n"
   ]
  }
 ],
 "metadata": {
  "kernelspec": {
   "display_name": "Python 3 (ipykernel)",
   "language": "python",
   "name": "python3"
  },
  "language_info": {
   "codemirror_mode": {
    "name": "ipython",
    "version": 3
   },
   "file_extension": ".py",
   "mimetype": "text/x-python",
   "name": "python",
   "nbconvert_exporter": "python",
   "pygments_lexer": "ipython3",
   "version": "3.12.0"
  }
 },
 "nbformat": 4,
 "nbformat_minor": 5
}
