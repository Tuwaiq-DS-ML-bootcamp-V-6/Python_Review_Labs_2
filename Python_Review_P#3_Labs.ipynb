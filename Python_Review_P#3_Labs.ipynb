{
 "cells": [
  {
   "cell_type": "markdown",
   "id": "2d4a0e4d",
   "metadata": {},
   "source": [
    "## Lab1-Lists\n",
    "Given the following list : [5, 4, 17, 19, 30, 2, 7, 10, 45]\n",
    "- Q1: Write a Python program to sum all the items in the list.\n",
    "- Q2: Write a Python program to get the largest number from the list.\n",
    "- Q3: Use list comprehension, create a new list from the above list containing only even numbers.\n",
    "- Q4: Use list slicing to get a new list from the previous list starting from the start to the 5th element in the list."
   ]
  },
  {
   "cell_type": "code",
   "execution_count": 7,
   "id": "88e0fe9c",
   "metadata": {},
   "outputs": [
    {
     "name": "stdout",
     "output_type": "stream",
     "text": [
      "Sum of all items in the list: 139\n",
      "Largest number in the list: 45\n",
      "List of even numbers: [4, 30, 2, 10]\n",
      "Sliced list: [5, 4, 17, 19, 30]\n"
     ]
    }
   ],
   "source": [
    "numbers = [5, 4, 17, 19, 30, 2, 7, 10, 45]\n",
    "\n",
    "sum_of_numbers = sum(numbers)\n",
    "print(\"Sum of all items in the list:\", sum_of_numbers)\n",
    "\n",
    "\n",
    "largest_number = max(numbers)\n",
    "print(\"Largest number in the list:\", largest_number)\n",
    "\n",
    "even_numbers = [num for num in numbers if num % 2 == 0]\n",
    "print(\"List of even numbers:\", even_numbers)\n",
    "\n",
    "sliced_list = numbers[:5]\n",
    "print(\"Sliced list:\", sliced_list)"
   ]
  },
  {
   "cell_type": "markdown",
   "id": "4df61e4c",
   "metadata": {},
   "source": [
    "## Lab2-Dictionary\n",
    "\n",
    "Build a phone book program that receives the phone number, and returns the name of the owner. \n",
    "You can follow the table below:\n",
    "\n",
    "| Name    | Number      |\n",
    "| -------- | ---------- |\n",
    "| Amal     | 1111111111 |\n",
    "| Mohammed | 2222222222 |\n",
    "| Khadijah | 3333333333 |\n",
    "| Abdullah  | 4444444444 |\n",
    "| Rawan    | 5555555555 |\n",
    "| Faisal   | 6666666666 |\n",
    "| Layla    | 7777777777 |\n",
    "\n",
    "\n",
    "- If the number exists, print the owner. Otherwise, print \"Sorry, the number is not found\".\n",
    "- If the number is less or more than 10 numbers, print \"This is invalid number\".\n",
    "- If the number contains letters or symbols, print \"This is invalid number\"."
   ]
  },
  {
   "cell_type": "code",
   "execution_count": 8,
   "id": "7d53c06c",
   "metadata": {},
   "outputs": [
    {
     "name": "stdout",
     "output_type": "stream",
     "text": [
      "Amal\n",
      "Sorry, the number is not found\n"
     ]
    }
   ],
   "source": [
    "phone_book = {\n",
    "    \"1111111111\": \"Amal\",\n",
    "    \"2222222222\": \"Mohammed\",\n",
    "    \"3333333333\": \"Khadijah\",\n",
    "    \"4444444444\": \"Abdullah\",\n",
    "    \"5555555555\": \"Rawan\",\n",
    "    \"6666666666\": \"Faisal\",\n",
    "    \"7777777777\": \"Layla\"\n",
    "}\n",
    "\n",
    "def number_of_owner(phone_number):\n",
    "    if phone_number in phone_book:\n",
    "        return phone_book[phone_number]\n",
    "    else:\n",
    "        return \"Sorry, the number is not found\"\n",
    "\n",
    "print(number_of_owner(\"1111111111\")) \n",
    "print(number_of_owner(\"9999999999\")) "
   ]
  },
  {
   "cell_type": "code",
   "execution_count": 9,
   "id": "ffdffaec",
   "metadata": {},
   "outputs": [
    {
     "name": "stdout",
     "output_type": "stream",
     "text": [
      "This is an invalid number\n",
      "Amal\n"
     ]
    }
   ],
   "source": [
    "phone_book = {\n",
    "    \"1111111111\": \"Amal\",\n",
    "    \"2222222222\": \"Mohammed\",\n",
    "    \"3333333333\": \"Khadijah\",\n",
    "    \"4444444444\": \"Abdullah\",\n",
    "    \"5555555555\": \"Rawan\",\n",
    "    \"6666666666\": \"Faisal\",\n",
    "    \"7777777777\": \"Layla\"\n",
    "}\n",
    "\n",
    "def number_of_owner(phone_number):\n",
    "    if len(phone_number) != 10:\n",
    "        return \"This is an invalid number\"\n",
    "    \n",
    "    if phone_number in phone_book:\n",
    "        return phone_book[phone_number]\n",
    "    else:\n",
    "        return \"Sorry, the number is not found\"\n",
    "\n",
    "print(number_of_owner(\"999\"))         \n",
    "print(number_of_owner(\"1111111111\"))  \n",
    "\n"
   ]
  },
  {
   "cell_type": "code",
   "execution_count": 10,
   "id": "93b05ba5",
   "metadata": {},
   "outputs": [
    {
     "name": "stdout",
     "output_type": "stream",
     "text": [
      "This is an invalid number\n",
      "Layla\n"
     ]
    }
   ],
   "source": [
    "phone_book = {\n",
    "    \"1111111111\": \"Amal\",\n",
    "    \"2222222222\": \"Mohammed\",\n",
    "    \"3333333333\": \"Khadijah\",\n",
    "    \"4444444444\": \"Abdullah\",\n",
    "    \"5555555555\": \"Rawan\",\n",
    "    \"6666666666\": \"Faisal\",\n",
    "    \"7777777777\": \"Layla\"\n",
    "}\n",
    "def number_of_owner(phone_number):\n",
    "\n",
    "    if not phone_number.isdigit():\n",
    "        return \"This is an invalid number\"\n",
    "    \n",
    "    if phone_number in phone_book:\n",
    "        return phone_book[phone_number]\n",
    "   \n",
    "\n",
    "print(number_of_owner(\"abc123def4\"))   \n",
    "print(number_of_owner(\"7777777777\")) "
   ]
  }
 ],
 "metadata": {
  "kernelspec": {
   "display_name": "Python 3 (ipykernel)",
   "language": "python",
   "name": "python3"
  },
  "language_info": {
   "codemirror_mode": {
    "name": "ipython",
    "version": 3
   },
   "file_extension": ".py",
   "mimetype": "text/x-python",
   "name": "python",
   "nbconvert_exporter": "python",
   "pygments_lexer": "ipython3",
   "version": "3.11.1"
  }
 },
 "nbformat": 4,
 "nbformat_minor": 5
}
