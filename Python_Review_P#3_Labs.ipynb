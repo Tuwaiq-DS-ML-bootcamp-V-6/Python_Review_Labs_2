{
 "cells": [
  {
   "cell_type": "markdown",
   "id": "2d4a0e4d",
   "metadata": {},
   "source": [
    "## Lab1-Lists\n",
    "Given the following list : [5, 4, 17, 19, 30, 2, 7, 10, 45]\n",
    "- Q1: Write a Python program to sum all the items in the list.\n",
    "- Q2: Write a Python program to get the largest number from the list.\n",
    "- Q3: Use list comprehension, create a new list from the above list containing only even numbers.\n",
    "- Q4: Use list slicing to get a new list from the previous list starting from the start to the 5th element in the list."
   ]
  },
  {
   "cell_type": "code",
   "execution_count": 6,
   "id": "88e0fe9c",
   "metadata": {},
   "outputs": [
    {
     "name": "stdout",
     "output_type": "stream",
     "text": [
      "The sum of all the items in the list is: 139\n",
      "The largest number in the list is: 45\n",
      "The list of even numbers is: [4, 30, 2, 10]\n",
      "The sliced list from the start to the 5th element is: [5, 4, 17, 19, 30]\n"
     ]
    }
   ],
   "source": [
    "#Q1: Write a Python program to sum all the items in the list\n",
    "numbers = [5, 4, 17, 19, 30, 2, 7, 10, 45]\n",
    "sum_of_numbers = sum(numbers)\n",
    "print(f\"The sum of all the items in the list is: {sum_of_numbers}\")\n",
    "\n",
    "\n",
    "#Q2:Write a Python program to get the largest number from the list.\n",
    "\n",
    "numbers = [5, 4, 17, 19, 30, 2, 7, 10, 45]\n",
    "largest_number = max(numbers)\n",
    "print(f\"The largest number in the list is: {largest_number}\")\n",
    "\n",
    "#Q3: Use list comprehension, create a new list from the above list containing only even numbers.\n",
    "\n",
    "numbers = [5, 4, 17, 19, 30, 2, 7, 10, 45]\n",
    "even_numbers = [number for number in numbers if number % 2 == 0]\n",
    "print(f\"The list of even numbers is: {even_numbers}\")\n",
    "\n",
    "#Q4: Use list slicing to get a new list from the previous list starting from the start to the 5th element in the list.\n",
    "\n",
    "numbers = [5, 4, 17, 19, 30, 2, 7, 10, 45]\n",
    "sliced_list = numbers[:5]\n",
    "print(f\"The sliced list from the start to the 5th element is: {sliced_list}\")\n"
   ]
  },
  {
   "cell_type": "markdown",
   "id": "4df61e4c",
   "metadata": {},
   "source": [
    "## Lab2-Dictionary\n",
    "\n",
    "Build a phone book program that receives the phone number, and returns the name of the owner. \n",
    "You can follow the table below:\n",
    "\n",
    "| Name    | Number      |\n",
    "| -------- | ---------- |\n",
    "| Amal     | 1111111111 |\n",
    "| Mohammed | 2222222222 |\n",
    "| Khadijah | 3333333333 |\n",
    "| Abdullah  | 4444444444 |\n",
    "| Rawan    | 5555555555 |\n",
    "| Faisal   | 6666666666 |\n",
    "| Layla    | 7777777777 |\n",
    "\n",
    "\n",
    "- If the number exists, print the owner. Otherwise, print \"Sorry, the number is not found\".\n",
    "- If the number is less or more than 10 numbers, print \"This is invalid number\".\n",
    "- If the number contains letters or symbols, print \"This is invalid number\"."
   ]
  },
  {
   "cell_type": "code",
   "execution_count": 8,
   "id": "7d53c06c",
   "metadata": {},
   "outputs": [
    {
     "name": "stdout",
     "output_type": "stream",
     "text": [
      "Rawan\n"
     ]
    }
   ],
   "source": [
    "phonebook = {\n",
    "    \"Amal\": \"1111111111\",\n",
    "    \"Mohammed\": \"2222222222\",\n",
    "    \"Khadijah\": \"3333333333\",\n",
    "    \"Abdullah\": \"4444444444\",\n",
    "    \"Rawan\": \"5555555555\",\n",
    "    \"Faisal\": \"6666666666\",\n",
    "    \"Layla\": \"7777777777\",\n",
    "}\n",
    "\n",
    "def find_owner(number):\n",
    " \n",
    "  # To Check for invalid number length\n",
    "  if len(number) != 10:\n",
    "    return \"This is invalid number (wrong length).\"\n",
    "\n",
    "  # To Check for non-numeric characters\n",
    "  if not number.isdigit():\n",
    "    return \"This is invalid number (contains letters or symbols).\"\n",
    "\n",
    "  # To Search for the number in the phonebook\n",
    "  if number in phonebook.values():\n",
    "    # Find the name associated with the number\n",
    "    for name, phone_number in phonebook.items():\n",
    "      if phone_number == number:\n",
    "        return name\n",
    "  else:\n",
    "    return \"Sorry, the number is not found.\"\n",
    "\n",
    "# To Get user input for phone number\n",
    "number = input(\"Enter a phone number: \")\n",
    "\n",
    "# To Find the owner and print the result\n",
    "owner = find_owner(number)\n",
    "print(owner)"
   ]
  },
  {
   "cell_type": "code",
   "execution_count": null,
   "id": "ffdffaec",
   "metadata": {},
   "outputs": [],
   "source": []
  },
  {
   "cell_type": "code",
   "execution_count": null,
   "id": "93b05ba5",
   "metadata": {},
   "outputs": [],
   "source": []
  }
 ],
 "metadata": {
  "kernelspec": {
   "display_name": "Python 3 (ipykernel)",
   "language": "python",
   "name": "python3"
  },
  "language_info": {
   "codemirror_mode": {
    "name": "ipython",
    "version": 3
   },
   "file_extension": ".py",
   "mimetype": "text/x-python",
   "name": "python",
   "nbconvert_exporter": "python",
   "pygments_lexer": "ipython3",
   "version": "3.11.9"
  }
 },
 "nbformat": 4,
 "nbformat_minor": 5
}
