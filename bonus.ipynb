{
 "cells": [
  {
   "cell_type": "code",
   "execution_count": 2,
   "id": "e54efd65-a1aa-4cab-a7b7-a94256c8f681",
   "metadata": {},
   "outputs": [
    {
     "name": "stdin",
     "output_type": "stream",
     "text": [
      "Enter your name:  sara\n",
      "Enter your age:  3\n"
     ]
    },
    {
     "name": "stdout",
     "output_type": "stream",
     "text": [
      "Kid\n"
     ]
    },
    {
     "name": "stdin",
     "output_type": "stream",
     "text": [
      "Do you want to repeat the process? (yes/no):  no\n"
     ]
    }
   ],
   "source": [
    "while True:\n",
    "    try:\n",
    "        name = input(\"Enter your name: \")\n",
    "        age = int(input(\"Enter your age: \"))\n",
    "        \n",
    "        if age >= 0 and age <= 6:\n",
    "            print(\"Kid\")\n",
    "        elif age < 0:\n",
    "            print(\"Wrong age value, you cannot enter a value 0 or less.\")\n",
    "        else:\n",
    "            total_cost = 0\n",
    "            num_items = int(input(\"Enter the number of items you want to buy: \"))\n",
    "            for _ in range(num_items):\n",
    "                item_name = input(\"Enter the item name: \")\n",
    "                item_price = float(input(\"Enter the item price: \"))\n",
    "                item_quantity = int(input(\"Enter the item quantity: \"))\n",
    "                item_cost = item_price * item_quantity\n",
    "                total_cost += item_cost\n",
    "                print(f\"Item cost: {item_cost}\")\n",
    "                print(f\"Total cost so far: {total_cost}\")\n",
    "\n",
    "            if total_cost > 200:\n",
    "                total_cost *= 0.8  # Apply 20% discount for total cost over 200\n",
    "                print(\"You received a 20% discount!\")\n",
    "\n",
    "        repeat = input(\"Do you want to repeat the process? (yes/no): \")\n",
    "        if repeat.lower() != \"yes\":\n",
    "            break\n",
    "    except ValueError:\n",
    "        print(\"Please enter a valid input.\")\n"
   ]
  },
  {
   "cell_type": "code",
   "execution_count": null,
   "id": "30fcdf6e-5555-48f6-9db8-aaf1272b04e4",
   "metadata": {},
   "outputs": [],
   "source": []
  }
 ],
 "metadata": {
  "kernelspec": {
   "display_name": "Python 3 (ipykernel)",
   "language": "python",
   "name": "python3"
  },
  "language_info": {
   "codemirror_mode": {
    "name": "ipython",
    "version": 3
   },
   "file_extension": ".py",
   "mimetype": "text/x-python",
   "name": "python",
   "nbconvert_exporter": "python",
   "pygments_lexer": "ipython3",
   "version": "3.11.7"
  }
 },
 "nbformat": 4,
 "nbformat_minor": 5
}
