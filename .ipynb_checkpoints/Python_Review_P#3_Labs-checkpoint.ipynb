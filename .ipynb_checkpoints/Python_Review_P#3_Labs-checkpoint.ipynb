{
 "cells": [
  {
   "cell_type": "markdown",
   "id": "2d4a0e4d",
   "metadata": {},
   "source": [
    "## Lab1-Lists\n",
    "Given the following list : [5, 4, 17, 19, 30, 2, 7, 10, 45]\n",
    "- Q1: Write a Python program to sum all the items in the list.\n",
    "- Q2: Write a Python program to get the largest number from the list.\n",
    "- Q3: Use list comprehension, create a new list from the above list containing only even numbers.\n",
    "- Q4: Use list slicing to get a new list from the previous list starting from the start to the 5th element in the list."
   ]
  },
  {
   "cell_type": "code",
   "execution_count": 9,
   "id": "88e0fe9c",
   "metadata": {},
   "outputs": [
    {
     "name": "stdout",
     "output_type": "stream",
     "text": [
      "The sum is 139\n",
      "The max is 45\n",
      "The new list is [4, 30, 2, 10]\n",
      "The sliced list is [5, 4, 17, 19, 30]\n"
     ]
    }
   ],
   "source": [
    "lab1List = [5, 4, 17, 19, 30, 2, 7, 10, 45]\n",
    "\n",
    "#A1\n",
    "summation = sum(lab1List)\n",
    "print(\"The sum is\", summation)\n",
    "\n",
    "#A2\n",
    "maxElement = max(lab1List)\n",
    "print(\"The max is\", maxElement)\n",
    "\n",
    "#A3\n",
    "newList = [element for element in lab1List if element%2==0 ]\n",
    "print(\"The new list is\", newList)\n",
    "\n",
    "#A4\n",
    "slicedList = lab1List[:5]\n",
    "print(\"The sliced list is\", slicedList)"
   ]
  },
  {
   "cell_type": "markdown",
   "id": "4df61e4c",
   "metadata": {},
   "source": [
    "## Lab2-Dictionary\n",
    "\n",
    "Build a phone book program that receives the phone number, and returns the name of the owner. \n",
    "You can follow the table below:\n",
    "\n",
    "| Name    | Number      |\n",
    "| -------- | ---------- |\n",
    "| Amal     | 1111111111 |\n",
    "| Mohammed | 2222222222 |\n",
    "| Khadijah | 3333333333 |\n",
    "| Abdullah  | 4444444444 |\n",
    "| Rawan    | 5555555555 |\n",
    "| Faisal   | 6666666666 |\n",
    "| Layla    | 7777777777 |\n",
    "\n",
    "\n",
    "- If the number exists, print the owner. Otherwise, print \"Sorry, the number is not found\".\n",
    "- If the number is less or more than 10 numbers, print \"This is invalid number\".\n",
    "- If the number contains letters or symbols, print \"This is invalid number\"."
   ]
  },
  {
   "cell_type": "code",
   "execution_count": 14,
   "id": "7d53c06c",
   "metadata": {},
   "outputs": [],
   "source": [
    "#Create phone book dictionary\n",
    "phoneBook = {\"Amal\":1111111111, \"Mohammed\":2222222222,\n",
    "             \"Khadijah\":3333333333, \"Abdullah\":4444444444 , \"Rawan\":5555555555,\n",
    "             \"Faisal\":6666666666, \"Layla\":7777777777}\n",
    "ask = True"
   ]
  },
  {
   "cell_type": "code",
   "execution_count": 15,
   "id": "ffdffaec",
   "metadata": {},
   "outputs": [
    {
     "name": "stdout",
     "output_type": "stream",
     "text": [
      "Please enter phone number?8888888888\n",
      "Sorry, the number is not found\n",
      "Please enter phone number?2222222222\n",
      "The owner is Mohammed\n"
     ]
    }
   ],
   "source": [
    "#Ask the user until it enters valid number\n",
    "while ask:\n",
    "    inputNumber = input(\"Please enter phone number?\")\n",
    "    \n",
    "    #Check whether it is not a digit or not 10 numbers\n",
    "    if not inputNumber.isdigit() or len(inputNumber) != 10:\n",
    "        print('This is invalid number')\n",
    "        continue\n",
    "    \n",
    "    #To stop the loop after found the number\n",
    "    found = False\n",
    "    for key , value in phoneBook.items():\n",
    "        if value == int(inputNumber):\n",
    "            print('The owner is', key)\n",
    "            found = True\n",
    "            ask = False\n",
    "            break \n",
    "    #If the loop end and did not find the value it will excute this line        \n",
    "    if not found:\n",
    "        print('Sorry, the number is not found')"
   ]
  }
 ],
 "metadata": {
  "kernelspec": {
   "display_name": "Python 3",
   "language": "python",
   "name": "python3"
  },
  "language_info": {
   "codemirror_mode": {
    "name": "ipython",
    "version": 3
   },
   "file_extension": ".py",
   "mimetype": "text/x-python",
   "name": "python",
   "nbconvert_exporter": "python",
   "pygments_lexer": "ipython3",
   "version": "3.8.8"
  }
 },
 "nbformat": 4,
 "nbformat_minor": 5
}
